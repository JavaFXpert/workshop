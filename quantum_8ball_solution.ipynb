{
 "cells": [
  {
   "cell_type": "code",
   "execution_count": null,
   "metadata": {},
   "outputs": [],
   "source": [
    "%matplotlib inline\n",
    "# Importing standard Qiskit libraries and configuring account\n",
    "from qiskit import QuantumCircuit, execute, Aer, IBMQ\n",
    "from qiskit.compiler import transpile, assemble\n",
    "from qiskit.tools.jupyter import *\n",
    "from qiskit.visualization import *\n",
    "# Loading your IBM Q account(s)\n",
    "provider = IBMQ.load_account()"
   ]
  },
  {
   "cell_type": "markdown",
   "metadata": {},
   "source": [
    "# Ask the Quantum 8-ball \n",
    "Sometimes we let chance decide. Quantum uncertainty is the cornerstone design feature of Quantum computers. Once the program is executed on a Quantum computer, you will receive the most unbiased random answer, a *True* chance that classical computers incapable to provide. Think about a question that can be answered \"yes or no\" and run the code. Quantum 8-ball returns one of the 8 possible answers to your question. You might be already familiar with some parts of the code used in other Qiskit tutorials. \n",
    "\n",
    "### Contributors \n",
    "Oleksii Lialka, MBA\n",
    "\n",
    "### Latest update\n",
    "1 May 2020: Updated to Qiskit 18 for use in quantum computing workshops.\n"
   ]
  },
  {
   "cell_type": "markdown",
   "metadata": {},
   "source": [
    "To obtain $2^3 = 8$ outcomes with the equal likelyhood we need to generate 3 qubits and put them into superposition using the Hadamard gate $H$."
   ]
  },
  {
   "cell_type": "code",
   "execution_count": null,
   "metadata": {},
   "outputs": [],
   "source": [
    "# Create a quantum circuit containing three quantum bits, and three classical bits to hold measurement results.\n",
    "qc = QuantumCircuit(3, 3)\n",
    "qc.h(0)\n",
    "qc.h(1)\n",
    "qc.h(2)\n",
    "qc.measure(range(3),range(3))\n"
   ]
  },
  {
   "cell_type": "markdown",
   "metadata": {},
   "source": [
    "Visualize the circuit."
   ]
  },
  {
   "cell_type": "code",
   "execution_count": null,
   "metadata": {},
   "outputs": [],
   "source": [
    "qc.draw()"
   ]
  },
  {
   "cell_type": "markdown",
   "metadata": {},
   "source": [
    "Before we move on, let's assign predictions to interpret the outcomes. The particle can be observed in one of 8 states: [000, 001, 010, 011, 100, 101, 110, 111]. We link each state to the particular \"answer\"."
   ]
  },
  {
   "cell_type": "code",
   "execution_count": null,
   "metadata": {},
   "outputs": [],
   "source": [
    "def answer(result):\n",
    "    for key in result.keys():\n",
    "        state = key\n",
    "    print('The Quantum 8-ball says:')\n",
    "    if state == '000':\n",
    "        print('It is certain.')\n",
    "    elif state == '001':\n",
    "        print('Without a doubt.')\n",
    "    elif state == '010':\n",
    "        print('Yes - definitely.')\n",
    "    elif state == '011':\n",
    "        print('Most likely.')\n",
    "    elif state == '100':\n",
    "        print(\"Don't count on it.\")\n",
    "    elif state == '101':\n",
    "        print('My reply is no.')\n",
    "    elif state == '110':\n",
    "        print('Very doubtful.')\n",
    "    else:\n",
    "        print('Concentrate and ask again.')"
   ]
  },
  {
   "cell_type": "markdown",
   "metadata": {},
   "source": [
    "## Simulation\n",
    "First, we launch the program on a classical computer you are currently using (or cloud service) measuring the circuit only once, then interpret and display the result."
   ]
  },
  {
   "cell_type": "code",
   "execution_count": null,
   "metadata": {},
   "outputs": [],
   "source": [
    "job = execute(qc, backend=Aer.get_backend('qasm_simulator'), shots=1)\n",
    "counts = job.result().get_counts(qc)\n",
    "answer(counts)"
   ]
  },
  {
   "cell_type": "markdown",
   "metadata": {},
   "source": [
    "Try to run the code multiple times to obtain different answer. The simulation is mimiking the behavior of quantum computer. States of the particle are generated using pseudo-random numbers, which give you the impression of being random, yet they are following certain prescribed rules and algorithms. Classical machines, unlike quantum computers, are inherently incapable of producing true random numbers."
   ]
  },
  {
   "cell_type": "markdown",
   "metadata": {},
   "source": [
    "## Implementing Quantum 8-ball using the Statevector class\n",
    "Rather than using a simulator, we can implement the Quantum 8-ball using methods of the Statevector class. Note that that we removed the measurement operations."
   ]
  },
  {
   "cell_type": "code",
   "execution_count": null,
   "metadata": {},
   "outputs": [],
   "source": [
    "from qiskit.quantum_info import Statevector\n",
    "qc = QuantumCircuit(3)\n",
    "qc.h(0)\n",
    "qc.h(1)\n",
    "qc.h(2)\n",
    "\n",
    "sv = Statevector.from_instruction(qc)\n",
    "counts = sv.sample_counts(shots = 1)\n",
    "answer(counts)"
   ]
  }
 ],
 "metadata": {
  "kernelspec": {
   "display_name": "Python 3",
   "language": "python",
   "name": "python3"
  },
  "language_info": {
   "codemirror_mode": {
    "name": "ipython",
    "version": 3
   },
   "file_extension": ".py",
   "mimetype": "text/x-python",
   "name": "python",
   "nbconvert_exporter": "python",
   "pygments_lexer": "ipython3",
   "version": "3.7.6"
  }
 },
 "nbformat": 4,
 "nbformat_minor": 4
}
